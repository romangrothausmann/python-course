{
 "cells": [
  {
   "cell_type": "markdown",
   "metadata": {},
   "source": [
    "# Python Einführungskurs"
   ]
  },
  {
   "cell_type": "markdown",
   "metadata": {},
   "source": [
    "---\n",
    "\n",
    "## Inhalt\n",
    "\n",
    "- [Einleitung und Inhalt](index.ipynb)\n",
    "- [Python installieren und ausführen](setup.ipynb)\n",
    "\n",
    "\n",
    "- [01 - Grundlagen der Python-Programmierung](101%20-%20Grundlagen%20der%20Programmierung%20in%20Python.ipynb)\n",
    "- [02 - Control Flow](102%20-%20Control%20Flow.ipynb)\n",
    "- [03 - Funktionen und Module](103%20-%20Funktionen%20und%20Module.ipynb)\n",
    "\n",
    "\n",
    "- [04 - Numerik mit Numpy](201%20-%20Numerik%20mit%20Numpy.ipynb)\n",
    "- [05 - Plots mit Matplotlib](202%20-%20Plots%20mit%20Matplotlib.ipynb)"
   ]
  },
  {
   "cell_type": "markdown",
   "metadata": {},
   "source": [
    "---\n",
    "\n",
    "## Fangen wir an!\n",
    "\n",
    "Dieser Kurs besteht aus interaktiven _[Jupyter Notebooks](http://jupyter.org)_. Du schaust gerade auf eines! In einem Notebook kannst du Code ausführen und zusätzlich erklärenden Text, $\\LaTeX$ Gleichungen, Bilder und mehr einfügen. Damit eignen sich Jupyter Notebooks hervorragend für wissenschaftliche Arbeit.\n",
    "\n",
    "Für die Auswertung der Praktikumsversuche wirst du Python und das Jupyter Notebook auf deinem eigenen Rechner ausführen müssen. Das kannst du jetzt schon erledigen, wenn du diesen Kurs offline machen möchtest, oder erst am Ende des Kurses:\n",
    "\n",
    "- [>> Python installieren und ausführen](setup.ipynb)"
   ]
  },
  {
   "cell_type": "markdown",
   "metadata": {
    "slideshow": {
     "slide_type": "slide"
    }
   },
   "source": [
    "---\n",
    "\n",
    "## Programmieren in der Wissenschaft\n",
    "\n",
    "Viele Aufgaben und Probleme, u.a. in der Wissenschaft, können wir an einen Computer auslagern. Doch dieser benötigt eine exakte Anleitung. Die Aufgabe des Programmierers ist, das Problem konzeptionell zu verstehen und in eine Aneinanderreihung von Befehlen zu übersetzen, die ein Computer ausführen kann.\n",
    "\n",
    "Gut programmieren zu können heißt nicht einfach nur die Programmiersprache zu kennen oder sehr schnelle Programme zu schreiben, sondern auch:\n",
    "\n",
    "- ein Problem aufzuteilen bis einzelne Teilprobleme von einem Computer gelöst werden können, und diese wieder zusammenzusetzen\n",
    "- sich passender Tools zu bedienen, wenn diese bereits ein Teilproblem lösen\n",
    "- ein Programm systematisch untersuchen und verstehen zu können, bspw. um Fehler zu finden\n",
    "- Programme zu schreiben, die _schnell genug_ sind, und nicht so schnell wie irgend möglich\n",
    "- Programme zu schreiben, die auch eine andere Person versteht (oder du selbst noch im nächsten Jahr)\n",
    "\n",
    "> Der letzte Punkt ist gerade in der Wissenschaft unter den Stichwörtern der **Reproduzierbarkeit** und **_open science_** von größter Wichtigkeit. Es bedeutet, dass auch andere deinen Code verstehen und selbst ausführen können und dabei die gleichen Resultate erhalten wie du. Du solltest Code immer mit der Annahme schreiben, dass andere Personen ihn lesen werden."
   ]
  },
  {
   "cell_type": "markdown",
   "metadata": {
    "slideshow": {
     "slide_type": "notes"
    }
   },
   "source": [
    "![Python Logo](https://www.python.org/static/community_logos/python-logo-master-v3-TM.png)"
   ]
  },
  {
   "cell_type": "markdown",
   "metadata": {
    "slideshow": {
     "slide_type": "slide"
    }
   },
   "source": [
    "## Wie unterscheidet sich Python von anderen Programmiersprachen?\n",
    "\n",
    "[Python](https://python.org) ist eine _interpretierte_ Programmiersprache, d.h. der Code wird nicht kompiliert bevor er ausgeführt wird. Dadurch ist ein Python-Programm in der Regel langsamer als ein Äquivalentes, das bspw. in C, C++ oder Fortran geschrieben wurde. Warum programmieren wir also in Python?\n",
    "\n",
    "- Die Syntax ist so einfach und übersichtlich, dass sich Python Code häufig schon fast wie Englisch liest.\n",
    "- Es kann sehr viel schneller gehen ein Python Programm zu schreiben, das tut was man erwartet, als in vielen anderen Sprachen.\n",
    "- Ein Python Programm kann recht einfach externen Code in anderen Sprachen aufrufen, sodass rechenintensive Operationen in C oder Fortran ausgelagert werden können. Numerische packages wie _Numpy_, die wir in der Wissenschaft verwenden, machen sich dies zu nutze. So erhalten wir die Annehmlichkeit von Python und die Geschwindigkeit von C!\n",
    "- In diesem Einführungskurs liegt der Fokus auf Aspekten der Programmierung, die in der wissenschaftlichen Anwendung besonders wichtig oder praktisch sind. Python ist jedoch eine beliebte und sehr vielseitige Sprache und wird auch in vielen anderen Bereichen verwendet. Was du hier lernst kannst du bspw. auch zum Schreiben von [Servern](https://www.djangoproject.com), [Webseiten](https://github.com/getpelican/pelican) oder [Spielen](link_to_pygame) anwenden!"
   ]
  },
  {
   "cell_type": "markdown",
   "metadata": {
    "slideshow": {
     "slide_type": "slide"
    }
   },
   "source": [
    "### Woher kommt der Name _Python_?\n",
    "\n",
    "Obwohl das Python Logo Schlangen enthält kommt der Name _Python_ ursprünglich von der [Monty Python](http://en.wikipedia.org/wiki/Monty_Python) Comedy Gruppe!\n",
    "\n",
    "![](https://upload.wikimedia.org/wikipedia/en/c/cb/Flyingcircus_2.jpg)\n",
    "\n",
    "Aus diesem Grund enthält die offizielle Python Dokumentation viele Referenzen zu Monty Python."
   ]
  },
  {
   "cell_type": "markdown",
   "metadata": {},
   "source": [
    "### Ein Hinweis zu Python Versionen 2 und 3\n",
    "\n",
    "Python liegt momentan in Version 3 vor, doch viele verwenden noch immer die Version 2.7, da noch nicht alle Pakete mit Version 3 kompatibel sind. In diesem Kurs lernen wir die Python 3 Syntax, doch an den entsprechenden Stellen zeige ich die wichtigsten Änderungen, falls du mal mit dem älteren Python 2 arbeiten musst."
   ]
  },
  {
   "cell_type": "markdown",
   "metadata": {},
   "source": [
    "---\n",
    "\n",
    "Hier geht's zur ersten Lektion:\n",
    "\n",
    "[**>> 01 - Grundlagen der Python-Programmierung**](101%20-%20Grundlagen%20der%20Programmierung%20in%20Python.ipynb)"
   ]
  }
 ],
 "metadata": {
  "kernelspec": {
   "display_name": "Python 3",
   "language": "python",
   "name": "python3"
  },
  "language_info": {
   "codemirror_mode": {
    "name": "ipython",
    "version": 3
   },
   "file_extension": ".py",
   "mimetype": "text/x-python",
   "name": "python",
   "nbconvert_exporter": "python",
   "pygments_lexer": "ipython3",
   "version": "3.8.3"
  }
 },
 "nbformat": 4,
 "nbformat_minor": 1
}
